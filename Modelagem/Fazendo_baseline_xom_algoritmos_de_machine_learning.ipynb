{
  "nbformat": 4,
  "nbformat_minor": 0,
  "metadata": {
    "colab": {
      "provenance": [],
      "mount_file_id": "1MZ48IK1Z8yQDON8OXvJkfIMc2hsvIzNi",
      "authorship_tag": "ABX9TyO0n7Oukw2A9sL064U2VhNn",
      "include_colab_link": true
    },
    "kernelspec": {
      "name": "python3",
      "display_name": "Python 3"
    },
    "language_info": {
      "name": "python"
    }
  },
  "cells": [
    {
      "cell_type": "markdown",
      "metadata": {
        "id": "view-in-github",
        "colab_type": "text"
      },
      "source": [
        "<a href=\"https://colab.research.google.com/github/gustavoramos82/Classificando-Fake-News-/blob/main/Modelagem/Fazendo_baseline_xom_algoritmos_de_machine_learning.ipynb\" target=\"_parent\"><img src=\"https://colab.research.google.com/assets/colab-badge.svg\" alt=\"Open In Colab\"/></a>"
      ]
    },
    {
      "cell_type": "markdown",
      "source": [
        "# Modelagem com algoritmos de machine learning\n",
        "\n",
        "Neste notebook será aplicado modelos de machine learning para servir de baseline e comparar com os modelos de redes neurais para ver qual seria melhor aplicar de acordo com as métricas"
      ],
      "metadata": {
        "id": "8kpN-1IiqBmg"
      }
    },
    {
      "cell_type": "code",
      "execution_count": 41,
      "metadata": {
        "id": "efxq2GL9p5mL"
      },
      "outputs": [],
      "source": [
        "import numpy as np\n",
        "import pandas as pd\n",
        "import seaborn as sns\n",
        "import matplotlib.pyplot as plt\n",
        "\n",
        "from sklearn.feature_extraction.text import TfidfVectorizer\n",
        "from sklearn.model_selection import train_test_split\n",
        "from sklearn.linear_model import LogisticRegression\n",
        "from sklearn.naive_bayes import MultinomialNB\n",
        "from sklearn.tree import DecisionTreeClassifier\n",
        "from sklearn.ensemble import RandomForestClassifier, ExtraTreesClassifier, GradientBoostingClassifier\n",
        "from sklearn.metrics import confusion_matrix, accuracy_score, precision_score, recall_score,f1_score\n",
        "\n",
        "from xgboost import XGBClassifier"
      ]
    },
    {
      "cell_type": "code",
      "source": [
        "def metricas(y_teste,y_pred):\n",
        "  print(confusion_matrix(y_teste,y_pred))\n",
        "  print('--'*5)\n",
        "  print('Acc:',accuracy_score(y_teste,y_pred))\n",
        "  print('Pre:',precision_score(y_teste,y_pred))\n",
        "  print('Rec:',recall_score(y_teste,y_pred))\n",
        "  print('F1:',f1_score(y_teste,y_pred))"
      ],
      "metadata": {
        "id": "76Glr5a2t_yM"
      },
      "execution_count": 16,
      "outputs": []
    },
    {
      "cell_type": "code",
      "source": [
        "news = pd.read_csv('/content/drive/MyDrive/Datasets/Fake news deep/Ouro/News.csv')\n",
        "news.drop('Unnamed: 0',axis=1,inplace=True)\n",
        "news.dropna(inplace=True)\n",
        "news['label'] = news['label'].astype(int)\n",
        "news.head()"
      ],
      "metadata": {
        "colab": {
          "base_uri": "https://localhost:8080/",
          "height": 206
        },
        "id": "J-gh1GSXqmw0",
        "outputId": "e2706570-e5b9-4c2f-912c-fd4587bfad89"
      },
      "execution_count": 2,
      "outputs": [
        {
          "output_type": "execute_result",
          "data": {
            "text/plain": [
              "                                               title  label\n",
              "0  us budget fight loom republican flip fiscal sc...      0\n",
              "1  us militari accept transgend recruit monday pe...      0\n",
              "2      senior us republican senat let mr mueller job      0\n",
              "3  fbi russia probe help australian diplomat tipo...      0\n",
              "4  trump want postal servic charg much amazon shi...      0"
            ],
            "text/html": [
              "\n",
              "  <div id=\"df-20da5f7b-21b3-482b-a196-f882fe1d8d7c\">\n",
              "    <div class=\"colab-df-container\">\n",
              "      <div>\n",
              "<style scoped>\n",
              "    .dataframe tbody tr th:only-of-type {\n",
              "        vertical-align: middle;\n",
              "    }\n",
              "\n",
              "    .dataframe tbody tr th {\n",
              "        vertical-align: top;\n",
              "    }\n",
              "\n",
              "    .dataframe thead th {\n",
              "        text-align: right;\n",
              "    }\n",
              "</style>\n",
              "<table border=\"1\" class=\"dataframe\">\n",
              "  <thead>\n",
              "    <tr style=\"text-align: right;\">\n",
              "      <th></th>\n",
              "      <th>title</th>\n",
              "      <th>label</th>\n",
              "    </tr>\n",
              "  </thead>\n",
              "  <tbody>\n",
              "    <tr>\n",
              "      <th>0</th>\n",
              "      <td>us budget fight loom republican flip fiscal sc...</td>\n",
              "      <td>0</td>\n",
              "    </tr>\n",
              "    <tr>\n",
              "      <th>1</th>\n",
              "      <td>us militari accept transgend recruit monday pe...</td>\n",
              "      <td>0</td>\n",
              "    </tr>\n",
              "    <tr>\n",
              "      <th>2</th>\n",
              "      <td>senior us republican senat let mr mueller job</td>\n",
              "      <td>0</td>\n",
              "    </tr>\n",
              "    <tr>\n",
              "      <th>3</th>\n",
              "      <td>fbi russia probe help australian diplomat tipo...</td>\n",
              "      <td>0</td>\n",
              "    </tr>\n",
              "    <tr>\n",
              "      <th>4</th>\n",
              "      <td>trump want postal servic charg much amazon shi...</td>\n",
              "      <td>0</td>\n",
              "    </tr>\n",
              "  </tbody>\n",
              "</table>\n",
              "</div>\n",
              "      <button class=\"colab-df-convert\" onclick=\"convertToInteractive('df-20da5f7b-21b3-482b-a196-f882fe1d8d7c')\"\n",
              "              title=\"Convert this dataframe to an interactive table.\"\n",
              "              style=\"display:none;\">\n",
              "        \n",
              "  <svg xmlns=\"http://www.w3.org/2000/svg\" height=\"24px\"viewBox=\"0 0 24 24\"\n",
              "       width=\"24px\">\n",
              "    <path d=\"M0 0h24v24H0V0z\" fill=\"none\"/>\n",
              "    <path d=\"M18.56 5.44l.94 2.06.94-2.06 2.06-.94-2.06-.94-.94-2.06-.94 2.06-2.06.94zm-11 1L8.5 8.5l.94-2.06 2.06-.94-2.06-.94L8.5 2.5l-.94 2.06-2.06.94zm10 10l.94 2.06.94-2.06 2.06-.94-2.06-.94-.94-2.06-.94 2.06-2.06.94z\"/><path d=\"M17.41 7.96l-1.37-1.37c-.4-.4-.92-.59-1.43-.59-.52 0-1.04.2-1.43.59L10.3 9.45l-7.72 7.72c-.78.78-.78 2.05 0 2.83L4 21.41c.39.39.9.59 1.41.59.51 0 1.02-.2 1.41-.59l7.78-7.78 2.81-2.81c.8-.78.8-2.07 0-2.86zM5.41 20L4 18.59l7.72-7.72 1.47 1.35L5.41 20z\"/>\n",
              "  </svg>\n",
              "      </button>\n",
              "      \n",
              "  <style>\n",
              "    .colab-df-container {\n",
              "      display:flex;\n",
              "      flex-wrap:wrap;\n",
              "      gap: 12px;\n",
              "    }\n",
              "\n",
              "    .colab-df-convert {\n",
              "      background-color: #E8F0FE;\n",
              "      border: none;\n",
              "      border-radius: 50%;\n",
              "      cursor: pointer;\n",
              "      display: none;\n",
              "      fill: #1967D2;\n",
              "      height: 32px;\n",
              "      padding: 0 0 0 0;\n",
              "      width: 32px;\n",
              "    }\n",
              "\n",
              "    .colab-df-convert:hover {\n",
              "      background-color: #E2EBFA;\n",
              "      box-shadow: 0px 1px 2px rgba(60, 64, 67, 0.3), 0px 1px 3px 1px rgba(60, 64, 67, 0.15);\n",
              "      fill: #174EA6;\n",
              "    }\n",
              "\n",
              "    [theme=dark] .colab-df-convert {\n",
              "      background-color: #3B4455;\n",
              "      fill: #D2E3FC;\n",
              "    }\n",
              "\n",
              "    [theme=dark] .colab-df-convert:hover {\n",
              "      background-color: #434B5C;\n",
              "      box-shadow: 0px 1px 3px 1px rgba(0, 0, 0, 0.15);\n",
              "      filter: drop-shadow(0px 1px 2px rgba(0, 0, 0, 0.3));\n",
              "      fill: #FFFFFF;\n",
              "    }\n",
              "  </style>\n",
              "\n",
              "      <script>\n",
              "        const buttonEl =\n",
              "          document.querySelector('#df-20da5f7b-21b3-482b-a196-f882fe1d8d7c button.colab-df-convert');\n",
              "        buttonEl.style.display =\n",
              "          google.colab.kernel.accessAllowed ? 'block' : 'none';\n",
              "\n",
              "        async function convertToInteractive(key) {\n",
              "          const element = document.querySelector('#df-20da5f7b-21b3-482b-a196-f882fe1d8d7c');\n",
              "          const dataTable =\n",
              "            await google.colab.kernel.invokeFunction('convertToInteractive',\n",
              "                                                     [key], {});\n",
              "          if (!dataTable) return;\n",
              "\n",
              "          const docLinkHtml = 'Like what you see? Visit the ' +\n",
              "            '<a target=\"_blank\" href=https://colab.research.google.com/notebooks/data_table.ipynb>data table notebook</a>'\n",
              "            + ' to learn more about interactive tables.';\n",
              "          element.innerHTML = '';\n",
              "          dataTable['output_type'] = 'display_data';\n",
              "          await google.colab.output.renderOutput(dataTable, element);\n",
              "          const docLink = document.createElement('div');\n",
              "          docLink.innerHTML = docLinkHtml;\n",
              "          element.appendChild(docLink);\n",
              "        }\n",
              "      </script>\n",
              "    </div>\n",
              "  </div>\n",
              "  "
            ]
          },
          "metadata": {},
          "execution_count": 2
        }
      ]
    },
    {
      "cell_type": "code",
      "source": [
        "sns.countplot(x='label',data=news)"
      ],
      "metadata": {
        "colab": {
          "base_uri": "https://localhost:8080/",
          "height": 467
        },
        "id": "yTWVY74bttjA",
        "outputId": "4f8bf0fc-c915-4425-be90-c5c04a1f0ba8"
      },
      "execution_count": 11,
      "outputs": [
        {
          "output_type": "execute_result",
          "data": {
            "text/plain": [
              "<Axes: xlabel='label', ylabel='count'>"
            ]
          },
          "metadata": {},
          "execution_count": 11
        },
        {
          "output_type": "display_data",
          "data": {
            "text/plain": [
              "<Figure size 640x480 with 1 Axes>"
            ],
            "image/png": "[encoded data removed]"
          },
          "metadata": {}
        }
      ]
    },
    {
      "cell_type": "code",
      "source": [
        "tdif = TfidfVectorizer()\n",
        "\n",
        "x = tdif.fit_transform(news.title)"
      ],
      "metadata": {
        "id": "efrUtHwYrNhS"
      },
      "execution_count": 3,
      "outputs": []
    },
    {
      "cell_type": "code",
      "source": [
        "y = news.label\n",
        "\n",
        "x_treino, x_teste, y_treino, y_teste = train_test_split(x,y,test_size=0.2,random_state=42)"
      ],
      "metadata": {
        "id": "Cr77wdner_w1"
      },
      "execution_count": 4,
      "outputs": []
    },
    {
      "cell_type": "markdown",
      "source": [
        "Regressão Logistica"
      ],
      "metadata": {
        "id": "5LS61GO_s5gc"
      }
    },
    {
      "cell_type": "code",
      "source": [
        "reg_log = LogisticRegression()\n",
        "reg_log.fit(x_treino,y_treino)\n",
        "log_pred = reg_log.predict(x_teste)"
      ],
      "metadata": {
        "id": "oDBGY-__swAo"
      },
      "execution_count": 6,
      "outputs": []
    },
    {
      "cell_type": "code",
      "source": [
        "metricas(y_teste,log_pred)"
      ],
      "metadata": {
        "colab": {
          "base_uri": "https://localhost:8080/"
        },
        "id": "RPxWFGZGtVpp",
        "outputId": "781a9c8b-c949-4b5b-c7a9-05280f808c2e"
      },
      "execution_count": 17,
      "outputs": [
        {
          "output_type": "stream",
          "name": "stdout",
          "text": [
            "[[4090  246]\n",
            " [ 293 3831]]\n",
            "----------\n",
            "Acc: 0.9362884160756502\n",
            "Pre: 0.9396615158204562\n",
            "Rec: 0.9289524733268671\n",
            "F1: 0.9342763077673454\n"
          ]
        }
      ]
    },
    {
      "cell_type": "markdown",
      "source": [
        "Naive Bayes"
      ],
      "metadata": {
        "id": "16IwdK4HvSL7"
      }
    },
    {
      "cell_type": "code",
      "source": [
        "mb = MultinomialNB()\n",
        "mb.fit(x_treino,y_treino)\n",
        "mb_pred = mb.predict(x_teste)"
      ],
      "metadata": {
        "id": "j7f4IpI-vOdP"
      },
      "execution_count": 19,
      "outputs": []
    },
    {
      "cell_type": "code",
      "source": [
        "metricas(y_teste,mb_pred)"
      ],
      "metadata": {
        "colab": {
          "base_uri": "https://localhost:8080/"
        },
        "id": "Sx5jMD99vtTj",
        "outputId": "5f79a90d-656a-4e5b-ff89-e18339996d5f"
      },
      "execution_count": 20,
      "outputs": [
        {
          "output_type": "stream",
          "name": "stdout",
          "text": [
            "[[4039  297]\n",
            " [ 276 3848]]\n",
            "----------\n",
            "Acc: 0.9322695035460993\n",
            "Pre: 0.9283474065138722\n",
            "Rec: 0.933074684772066\n",
            "F1: 0.9307050429314306\n"
          ]
        }
      ]
    },
    {
      "cell_type": "markdown",
      "source": [
        "Árvore de decisão"
      ],
      "metadata": {
        "id": "WDduxl5v19TF"
      }
    },
    {
      "cell_type": "code",
      "source": [
        "tree = DecisionTreeClassifier()\n",
        "tree.fit(x_treino,y_treino)\n",
        "tree_pred = tree.predict(x_teste)\n"
      ],
      "metadata": {
        "id": "p8a17a7rv376"
      },
      "execution_count": 26,
      "outputs": []
    },
    {
      "cell_type": "code",
      "source": [
        "metricas(y_teste,tree_pred)"
      ],
      "metadata": {
        "colab": {
          "base_uri": "https://localhost:8080/"
        },
        "id": "dBB7E8sfwm9P",
        "outputId": "53bc0a1f-f8fa-434b-a6fb-afa33e9e836c"
      },
      "execution_count": 27,
      "outputs": [
        {
          "output_type": "stream",
          "name": "stdout",
          "text": [
            "[[3870  466]\n",
            " [ 399 3725]]\n",
            "----------\n",
            "Acc: 0.8977541371158393\n",
            "Pre: 0.8888093533762825\n",
            "Rec: 0.9032492725509215\n",
            "F1: 0.8959711365003007\n"
          ]
        }
      ]
    },
    {
      "cell_type": "markdown",
      "source": [
        "Random Forest"
      ],
      "metadata": {
        "id": "Xzfbe1EI2A6W"
      }
    },
    {
      "cell_type": "code",
      "source": [
        "random = RandomForestClassifier()\n",
        "random.fit(x_treino,y_treino)\n",
        "random_pred = random.predict(x_teste)"
      ],
      "metadata": {
        "id": "0DdlU1c9wtWr"
      },
      "execution_count": 31,
      "outputs": []
    },
    {
      "cell_type": "code",
      "source": [
        "metricas(y_teste,random_pred)"
      ],
      "metadata": {
        "colab": {
          "base_uri": "https://localhost:8080/"
        },
        "id": "KbYrOb7Hyu_x",
        "outputId": "12c8cb51-f5d1-44d9-d7c7-32972aca5633"
      },
      "execution_count": 32,
      "outputs": [
        {
          "output_type": "stream",
          "name": "stdout",
          "text": [
            "[[4092  244]\n",
            " [ 280 3844]]\n",
            "----------\n",
            "Acc: 0.9380614657210402\n",
            "Pre: 0.9403131115459883\n",
            "Rec: 0.9321047526673133\n",
            "F1: 0.9361909400876767\n"
          ]
        }
      ]
    },
    {
      "cell_type": "markdown",
      "source": [
        "Xgboost"
      ],
      "metadata": {
        "id": "TUMsiBDu2Dvd"
      }
    },
    {
      "cell_type": "code",
      "source": [
        "xgb = XGBClassifier()\n",
        "xgb.fit(x_treino,y_treino)\n",
        "xgb_pred = xgb.predict(x_teste)"
      ],
      "metadata": {
        "id": "_4b5Bsj6y52A"
      },
      "execution_count": 33,
      "outputs": []
    },
    {
      "cell_type": "code",
      "source": [
        "metricas(y_teste,xgb_pred)"
      ],
      "metadata": {
        "colab": {
          "base_uri": "https://localhost:8080/"
        },
        "id": "4OsLCel7zPuM",
        "outputId": "3b8bbb62-26a9-4d83-8588-60e8ae254347"
      },
      "execution_count": 34,
      "outputs": [
        {
          "output_type": "stream",
          "name": "stdout",
          "text": [
            "[[4085  251]\n",
            " [ 563 3561]]\n",
            "----------\n",
            "Acc: 0.9037825059101655\n",
            "Pre: 0.9341552990556139\n",
            "Rec: 0.8634820562560621\n",
            "F1: 0.897429435483871\n"
          ]
        }
      ]
    },
    {
      "cell_type": "markdown",
      "source": [
        "Extra tree"
      ],
      "metadata": {
        "id": "9_5pbVrq2GMX"
      }
    },
    {
      "cell_type": "code",
      "source": [
        "extra = ExtraTreesClassifier()\n",
        "extra.fit(x_treino,y_treino)\n",
        "extra_pred = extra.predict(x_teste)"
      ],
      "metadata": {
        "id": "XptmgfrSzWP3"
      },
      "execution_count": 35,
      "outputs": []
    },
    {
      "cell_type": "code",
      "source": [
        "metricas(y_teste,extra_pred)"
      ],
      "metadata": {
        "colab": {
          "base_uri": "https://localhost:8080/"
        },
        "id": "DSrG4nFh0IwW",
        "outputId": "1efddfce-3ada-42d8-f965-01e2f8f01548"
      },
      "execution_count": 36,
      "outputs": [
        {
          "output_type": "stream",
          "name": "stdout",
          "text": [
            "[[4118  218]\n",
            " [ 271 3853]]\n",
            "----------\n",
            "Acc: 0.9421985815602837\n",
            "Pre: 0.9464505035617784\n",
            "Rec: 0.9342870999030067\n",
            "F1: 0.9403294691885296\n"
          ]
        }
      ]
    },
    {
      "cell_type": "markdown",
      "source": [
        "Gradiente Boosting"
      ],
      "metadata": {
        "id": "4MzeTqUX2JUf"
      }
    },
    {
      "cell_type": "code",
      "source": [
        "grad = GradientBoostingClassifier()\n",
        "grad.fit(x_treino,y_treino)\n",
        "grad_pred = grad.predict(x_teste)"
      ],
      "metadata": {
        "id": "ULsHftnU0qGx"
      },
      "execution_count": 38,
      "outputs": []
    },
    {
      "cell_type": "code",
      "source": [
        "metricas(y_teste,grad_pred)"
      ],
      "metadata": {
        "colab": {
          "base_uri": "https://localhost:8080/"
        },
        "id": "RXzJSOx81U17",
        "outputId": "48915eb6-3809-42d4-b0cc-8277f4605979"
      },
      "execution_count": 39,
      "outputs": [
        {
          "output_type": "stream",
          "name": "stdout",
          "text": [
            "[[4033  303]\n",
            " [1072 3052]]\n",
            "----------\n",
            "Acc: 0.8374704491725768\n",
            "Pre: 0.9096870342771982\n",
            "Rec: 0.7400581959262852\n",
            "F1: 0.8161518919641663\n"
          ]
        }
      ]
    },
    {
      "cell_type": "markdown",
      "source": [
        "Podemos ver que os modelos q tiveram a melhor perfomace, foram extra tree, random forest e regressão logistica"
      ],
      "metadata": {
        "id": "FKkdUs873gSI"
      }
    },
    {
      "cell_type": "code",
      "source": [
        "plt.figure(figsize=(14,4))\n",
        "plt.subplot(1,3,1)\n",
        "\n",
        "plt.title('Matriz de Confusão Regressão Logistica')\n",
        "sns.heatmap(confusion_matrix(y_teste,log_pred),annot=True,fmt=\".0f\")\n",
        "ticks, labels = plt.yticks()\n",
        "plt.yticks(ticks, ['Não é fake','É fake'])\n",
        "plt.xticks(ticks, ['Não é fake','É fake'])\n",
        "plt.xlabel('Valor Real')\n",
        "plt.ylabel('Valor Predito')\n",
        "\n",
        "plt.subplot(1,3,2)\n",
        "\n",
        "plt.title('Matriz de Confusão Rando Forest')\n",
        "sns.heatmap(confusion_matrix(y_teste,random_pred),annot=True,fmt=\".0f\")\n",
        "ticks, labels = plt.yticks()\n",
        "plt.yticks(ticks, ['Não é fake','É fake'])\n",
        "plt.xticks(ticks, ['Não é fake','É fake'])\n",
        "plt.xlabel('Valor Real')\n",
        "plt.ylabel('Valor Predito')\n",
        "\n",
        "plt.subplot(1,3,3)\n",
        "\n",
        "plt.title('Matriz de Confusão Extra Tree')\n",
        "sns.heatmap(confusion_matrix(y_teste,extra_pred),annot=True,fmt=\".0f\")\n",
        "ticks, labels = plt.yticks()\n",
        "plt.yticks(ticks, ['Não é fake','É fake'])\n",
        "plt.xticks(ticks, ['Não é fake','É fake'])\n",
        "plt.xlabel('Valor Real')\n",
        "plt.ylabel('Valor Predito')"
      ],
      "metadata": {
        "colab": {
          "base_uri": "https://localhost:8080/",
          "height": 428
        },
        "id": "0Bg8Dmzy326V",
        "outputId": "91d57145-2b23-4899-f4a9-2f08b0cc4c04"
      },
      "execution_count": 66,
      "outputs": [
        {
          "output_type": "execute_result",
          "data": {
            "text/plain": [
              "Text(911.6045751633989, 0.5, 'Valor Predito')"
            ]
          },
          "metadata": {},
          "execution_count": 66
        },
        {
          "output_type": "display_data",
          "data": {
            "text/plain": [
              "<Figure size 1400x400 with 6 Axes>"
            ],
            "image/png": "[encoded data removed]"
          },
          "metadata": {}
        }
      ]
    }
  ]
}